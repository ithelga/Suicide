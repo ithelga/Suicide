{
 "cells": [
  {
   "cell_type": "code",
   "execution_count": 7,
   "metadata": {
    "scrolled": false
   },
   "outputs": [
    {
     "ename": "AttributeError",
     "evalue": "'DataFrame' object has no attribute 'set_option'",
     "output_type": "error",
     "traceback": [
      "\u001b[1;31m---------------------------------------------------------------------------\u001b[0m",
      "\u001b[1;31mAttributeError\u001b[0m                            Traceback (most recent call last)",
      "\u001b[1;32m<ipython-input-7-b08872d661b8>\u001b[0m in \u001b[0;36m<module>\u001b[1;34m\u001b[0m\n\u001b[0;32m     53\u001b[0m \u001b[1;33m\u001b[0m\u001b[0m\n\u001b[0;32m     54\u001b[0m \u001b[0mglobal_s\u001b[0m \u001b[1;33m=\u001b[0m \u001b[0mpd\u001b[0m\u001b[1;33m.\u001b[0m\u001b[0mmerge\u001b[0m\u001b[1;33m(\u001b[0m\u001b[0mhdi\u001b[0m\u001b[1;33m,\u001b[0m \u001b[0mhr\u001b[0m\u001b[1;33m,\u001b[0m \u001b[0mleft_index\u001b[0m\u001b[1;33m=\u001b[0m\u001b[1;32mTrue\u001b[0m\u001b[1;33m,\u001b[0m \u001b[0mright_index\u001b[0m\u001b[1;33m=\u001b[0m\u001b[1;32mTrue\u001b[0m\u001b[1;33m)\u001b[0m\u001b[1;33m\u001b[0m\u001b[1;33m\u001b[0m\u001b[0m\n\u001b[1;32m---> 55\u001b[1;33m \u001b[0mglobal_s\u001b[0m\u001b[1;33m.\u001b[0m\u001b[0mset_option\u001b[0m\u001b[1;33m(\u001b[0m\u001b[1;33m)\u001b[0m\u001b[1;33m\u001b[0m\u001b[1;33m\u001b[0m\u001b[0m\n\u001b[0m\u001b[0;32m     56\u001b[0m \u001b[0mprint\u001b[0m\u001b[1;33m(\u001b[0m\u001b[0mglobal_s\u001b[0m\u001b[1;33m)\u001b[0m\u001b[1;33m\u001b[0m\u001b[1;33m\u001b[0m\u001b[0m\n\u001b[0;32m     57\u001b[0m \u001b[1;33m\u001b[0m\u001b[0m\n",
      "\u001b[1;32m~\\Anaconda3\\lib\\site-packages\\pandas\\core\\generic.py\u001b[0m in \u001b[0;36m__getattr__\u001b[1;34m(self, name)\u001b[0m\n\u001b[0;32m   5065\u001b[0m             \u001b[1;32mif\u001b[0m \u001b[0mself\u001b[0m\u001b[1;33m.\u001b[0m\u001b[0m_info_axis\u001b[0m\u001b[1;33m.\u001b[0m\u001b[0m_can_hold_identifiers_and_holds_name\u001b[0m\u001b[1;33m(\u001b[0m\u001b[0mname\u001b[0m\u001b[1;33m)\u001b[0m\u001b[1;33m:\u001b[0m\u001b[1;33m\u001b[0m\u001b[1;33m\u001b[0m\u001b[0m\n\u001b[0;32m   5066\u001b[0m                 \u001b[1;32mreturn\u001b[0m \u001b[0mself\u001b[0m\u001b[1;33m[\u001b[0m\u001b[0mname\u001b[0m\u001b[1;33m]\u001b[0m\u001b[1;33m\u001b[0m\u001b[1;33m\u001b[0m\u001b[0m\n\u001b[1;32m-> 5067\u001b[1;33m             \u001b[1;32mreturn\u001b[0m \u001b[0mobject\u001b[0m\u001b[1;33m.\u001b[0m\u001b[0m__getattribute__\u001b[0m\u001b[1;33m(\u001b[0m\u001b[0mself\u001b[0m\u001b[1;33m,\u001b[0m \u001b[0mname\u001b[0m\u001b[1;33m)\u001b[0m\u001b[1;33m\u001b[0m\u001b[1;33m\u001b[0m\u001b[0m\n\u001b[0m\u001b[0;32m   5068\u001b[0m \u001b[1;33m\u001b[0m\u001b[0m\n\u001b[0;32m   5069\u001b[0m     \u001b[1;32mdef\u001b[0m \u001b[0m__setattr__\u001b[0m\u001b[1;33m(\u001b[0m\u001b[0mself\u001b[0m\u001b[1;33m,\u001b[0m \u001b[0mname\u001b[0m\u001b[1;33m,\u001b[0m \u001b[0mvalue\u001b[0m\u001b[1;33m)\u001b[0m\u001b[1;33m:\u001b[0m\u001b[1;33m\u001b[0m\u001b[1;33m\u001b[0m\u001b[0m\n",
      "\u001b[1;31mAttributeError\u001b[0m: 'DataFrame' object has no attribute 'set_option'"
     ]
    }
   ],
   "source": [
    "import pandas as pd\n",
    "import numpy as np\n",
    "\n",
    "\n",
    "hdi_2015 = pd.read_csv('HDI_2015.csv', delimiter=',', index_col='Country')\n",
    "hdi_2015 = hdi_2015['2015']\n",
    "hdi_2015.columns = ['HDI 2015']\n",
    "hdi_2010_2014 = pd.read_csv('HDI_2010_2014.csv', delimiter=',', index_col='Country')\n",
    "hdi_2010_2014 = hdi_2010_2014[['2012', '2013', '2014']]\n",
    "hdi_2010_2014.columns = ['HDI 2012', 'HDI 2013', 'HDI 2014']\n",
    "hdi = pd.merge(hdi_2010_2014, hdi_2015, left_on='Country', right_on='Country')\n",
    "\n",
    "\n",
    "hr_2010_2015 = pd.read_csv('HR_2005_2019.csv', delimiter=',')\n",
    "hr_2010_2015 = hr_2010_2015[['Country', 'year', 'HR']]\n",
    "hr_2010_2015 = hr_2010_2015[hr_2010_2015['year'].isin(['2012', '2013', '2014', '2015'])]\n",
    "d = {c['Country']: [] for i, c in hr_2010_2015.iterrows()}\n",
    "for i, c in hr_2010_2015.iterrows():\n",
    "    d[c['Country']].append(float('{0:.7f}'.format(c['HR'])))\n",
    "a = [k for k, v in d.items() if len(v) < 4]\n",
    "for i in a:\n",
    "    del d[i]\n",
    "hr = pd.DataFrame.from_dict(d, orient='index')\n",
    "hr.columns = ['HR 2012', 'HR 2013', 'HR 2014', 'HR 2015']\n",
    "\n",
    "\n",
    "sui = pd.read_csv('suicide_1985_2016.csv', delimiter=',')\n",
    "sui = sui[['country', 'year', 'suicides/100k pop']]\n",
    "sui = sui[sui['year'].isin(['2012', '2013', '2014', '2015'])]\n",
    "d = {k: [] for k in d.keys()}\n",
    "for i, c in sui.iterrows():\n",
    "    if c['country'] in d.keys():\n",
    "        d[c['country']].append([str(c['year']), float(c['suicides/100k pop'])])\n",
    "a = [k for k, v in d.items() if v == []]\n",
    "for i in a:\n",
    "    del d[i]\n",
    "m = {}\n",
    "for k, v in d.items():\n",
    "    p = {'2012': 0, '2013': 0, '2014': 0, '2015': 0}\n",
    "    for y, z in v:\n",
    "        p[y] += z\n",
    "    for i, q in p.items():\n",
    "        p[i] = float('{0:.2f}'.format(q / 12))\n",
    "    d[k] = [i for i in p.values()]\n",
    "a = [k for k, v in d.items() if 0.0 in v]\n",
    "for i in a:\n",
    "    del d[i]\n",
    "n = range(len(d) - 1)\n",
    "suicide = pd.DataFrame.from_dict(d, orient='index')\n",
    "suicide.columns = ['D 2012', 'D 2013', 'D 2014', 'D 2015']\n",
    "\n",
    "hr_sui = pd.merge(hr, suicide, left_index=True, right_index=True)\n",
    "\n",
    "global_s = pd.merge(hdi, hr, left_index=True, right_index=True)\n",
    "\n",
    "print(global_s)\n",
    "\n",
    "\n",
    "\n",
    "\n",
    "\n"
   ]
  },
  {
   "cell_type": "code",
   "execution_count": null,
   "metadata": {},
   "outputs": [],
   "source": []
  },
  {
   "cell_type": "code",
   "execution_count": null,
   "metadata": {},
   "outputs": [],
   "source": []
  }
 ],
 "metadata": {
  "kernelspec": {
   "display_name": "Python 3",
   "language": "python",
   "name": "python3"
  },
  "language_info": {
   "codemirror_mode": {
    "name": "ipython",
    "version": 3
   },
   "file_extension": ".py",
   "mimetype": "text/x-python",
   "name": "python",
   "nbconvert_exporter": "python",
   "pygments_lexer": "ipython3",
   "version": "3.7.3"
  }
 },
 "nbformat": 4,
 "nbformat_minor": 2
}
